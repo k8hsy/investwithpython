{
 "cells": [
  {
   "cell_type": "code",
   "execution_count": 1,
   "metadata": {},
   "outputs": [],
   "source": [
    "import pandas as pd\n",
    "import numpy as np"
   ]
  },
  {
   "cell_type": "code",
   "execution_count": null,
   "metadata": {},
   "outputs": [],
   "source": [
    "# For MonteCarlo Simulation, generate random portfolios weights"
   ]
  },
  {
   "cell_type": "code",
   "execution_count": 2,
   "metadata": {},
   "outputs": [
    {
     "name": "stdout",
     "output_type": "stream",
     "text": [
      "[0.14304259 0.01882701 0.02980785 0.18840337 0.14703668 0.13006818\n",
      " 0.05155736 0.16778605 0.02690855 0.09656235]\n"
     ]
    }
   ],
   "source": [
    "# N = # of stocks in portfolio\n",
    "# randmin is mininum weight for each stock[0 < randmin < 1]\n",
    "# randmax is maximum weight for each stock[0 < randmax < 1]\n",
    "# sum of weights should be equal to 1\n",
    "\n",
    "N=10\n",
    "randmin = 0.001      \n",
    "randmax = 0.2       \n",
    "\n",
    "result = np.array(np.repeat(1/N,N)) \n",
    "for i in range(100):                             \n",
    "    eps = np.random.uniform(low=randmin,high=randmax,size= 1)\n",
    "    which = np.random.randint(0,N,2)\n",
    "    #print(result[which[0]],result[which[1]])\n",
    "    if ((result[which[0]]+eps)<=randmax)&((result[which[1]]-eps)>=randmin):\n",
    "      result[which[0]] = result[which[0]]+eps\n",
    "      result[which[1]] = result[which[1]]-eps\n",
    "result\n",
    "\n",
    "print(result)\n"
   ]
  },
  {
   "cell_type": "code",
   "execution_count": 3,
   "metadata": {},
   "outputs": [
    {
     "data": {
      "text/plain": [
       "0.01882701312661919"
      ]
     },
     "execution_count": 3,
     "metadata": {},
     "output_type": "execute_result"
    }
   ],
   "source": [
    "# Minimum weight\n",
    "min(result)"
   ]
  },
  {
   "cell_type": "code",
   "execution_count": 4,
   "metadata": {},
   "outputs": [
    {
     "data": {
      "text/plain": [
       "0.18840337077185265"
      ]
     },
     "execution_count": 4,
     "metadata": {},
     "output_type": "execute_result"
    }
   ],
   "source": [
    "# Maximum weight\n",
    "max(result)"
   ]
  },
  {
   "cell_type": "code",
   "execution_count": 5,
   "metadata": {},
   "outputs": [
    {
     "data": {
      "text/plain": [
       "0.9999999999999999"
      ]
     },
     "execution_count": 5,
     "metadata": {},
     "output_type": "execute_result"
    }
   ],
   "source": [
    "sum(result)"
   ]
  },
  {
   "cell_type": "code",
   "execution_count": null,
   "metadata": {
    "vscode": {
     "languageId": "plaintext"
    }
   },
   "outputs": [],
   "source": [
    "# Create random weight generation funtction"
   ]
  },
  {
   "cell_type": "code",
   "execution_count": 6,
   "metadata": {},
   "outputs": [],
   "source": [
    "randmin = 0.005\n",
    "randmax = 0.2  \n",
    "\n",
    "def randomrange(N):\n",
    "  result = np.array(np.repeat(1/N,N)) \n",
    "  for i in range(100):                             \n",
    "    eps = np.random.uniform(low=randmin,high=randmax,size= 1)\n",
    "    which = np.random.randint(0,N,2)\n",
    "    #print(result[which[0]],result[which[1]])\n",
    "    if ((result[which[0]]+eps)<=randmax)&((result[which[1]]-eps)>=randmin):\n",
    "      result[which[0]] = result[which[0]]+eps\n",
    "      result[which[1]] = result[which[1]]-eps\n",
    "\n",
    "  return result"
   ]
  },
  {
   "cell_type": "code",
   "execution_count": 7,
   "metadata": {},
   "outputs": [
    {
     "data": {
      "text/plain": [
       "array([0.01173019, 0.10417602, 0.02206939, 0.03473413, 0.14590597,\n",
       "       0.03062178, 0.02527149, 0.1604853 , 0.0173404 , 0.16522947,\n",
       "       0.11671246, 0.1657234 ])"
      ]
     },
     "execution_count": 7,
     "metadata": {},
     "output_type": "execute_result"
    }
   ],
   "source": [
    "randomrange(12)"
   ]
  }
 ],
 "metadata": {
  "kernelspec": {
   "display_name": "base",
   "language": "python",
   "name": "python3"
  },
  "language_info": {
   "codemirror_mode": {
    "name": "ipython",
    "version": 3
   },
   "file_extension": ".py",
   "mimetype": "text/x-python",
   "name": "python",
   "nbconvert_exporter": "python",
   "pygments_lexer": "ipython3",
   "version": "3.9.12"
  },
  "orig_nbformat": 4
 },
 "nbformat": 4,
 "nbformat_minor": 2
}
