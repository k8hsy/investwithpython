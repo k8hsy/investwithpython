{
  "nbformat": 4,
  "nbformat_minor": 0,
  "metadata": {
    "colab": {
      "provenance": []
    },
    "kernelspec": {
      "name": "python3",
      "display_name": "Python 3"
    },
    "language_info": {
      "name": "python"
    }
  },
  "cells": [
    {
      "cell_type": "code",
      "execution_count": null,
      "metadata": {
        "id": "N_ZdAAuBTNX7"
      },
      "outputs": [],
      "source": [
        "import random "
      ]
    },
    {
      "cell_type": "code",
      "source": [
        "# cf) https://docs.python.org/ko/3/library/random.html"
      ],
      "metadata": {
        "id": "x00L62d1ZlXW"
      },
      "execution_count": null,
      "outputs": []
    },
    {
      "cell_type": "code",
      "source": [
        "# [1] random() # 0이상 1미만의 숫자 중 랜덤 숫자 출력, random number between 0 and 1\n",
        "for i in range(10):\n",
        "  result = random.random() \n",
        "  print(result)"
      ],
      "metadata": {
        "colab": {
          "base_uri": "https://localhost:8080/"
        },
        "id": "8IHjPqcEUPYM",
        "outputId": "1918c015-01ce-41a5-d34d-c4660ebe3997"
      },
      "execution_count": null,
      "outputs": [
        {
          "output_type": "stream",
          "name": "stdout",
          "text": [
            "0.6770702957130823\n",
            "0.26020301634993326\n",
            "0.43278659868380687\n",
            "0.5917484828215325\n",
            "0.7385665370480423\n",
            "0.7804020239477198\n",
            "0.3920055875976949\n",
            "0.31467023726617827\n",
            "0.6956736474036349\n",
            "0.6570512564476445\n"
          ]
        }
      ]
    },
    {
      "cell_type": "code",
      "source": [
        "# [2] randint(a,b) # a이상 b 이하의 랜덩 정수 출력\n",
        "for i in range (10):\n",
        "  result = random.randint(1,10)\n",
        "  print(result)"
      ],
      "metadata": {
        "colab": {
          "base_uri": "https://localhost:8080/"
        },
        "id": "OhHBynp2Uu9V",
        "outputId": "28dd0df4-b951-4a02-b6aa-7be1e74dc483"
      },
      "execution_count": null,
      "outputs": [
        {
          "output_type": "stream",
          "name": "stdout",
          "text": [
            "9\n",
            "3\n",
            "3\n",
            "4\n",
            "10\n",
            "6\n",
            "8\n",
            "9\n",
            "7\n",
            "9\n"
          ]
        }
      ]
    },
    {
      "cell_type": "code",
      "source": [
        "# [3] range()의 변형 --> randrange(a,b) a이상 b '미만'의 정수를 무작위 출력\n",
        "for i in range(10):\n",
        "  result = random.randrange(1,10)\n",
        "  print(result)\n",
        "\n",
        "'''\n",
        "for i in range(10): # 0부터 9까지 (포함, 10이전)\n",
        "for i in range (2, 10):# 2부터 10이전까지\n",
        "for i in range (2, 11, 2): 2부터 11전까지 2씩 증가\n",
        "'''\n",
        "\n",
        "for i in range(10):\n",
        "  result = random.randrange(2,11,2) # 2 4 6 8 10\n",
        "  print(result)\n"
      ],
      "metadata": {
        "colab": {
          "base_uri": "https://localhost:8080/"
        },
        "id": "v93JPcVcVHLv",
        "outputId": "b2d2686b-59ae-4e28-df95-66c2fdd66c86"
      },
      "execution_count": null,
      "outputs": [
        {
          "output_type": "stream",
          "name": "stdout",
          "text": [
            "4\n",
            "4\n",
            "8\n",
            "2\n",
            "6\n",
            "8\n",
            "6\n",
            "10\n",
            "10\n",
            "8\n"
          ]
        }
      ]
    },
    {
      "cell_type": "code",
      "source": [
        "# [4] choice\n",
        "data = ['a', 'b', 'c', 'd']\n",
        "print(data)\n",
        "\n",
        "result = random.choice(data)\n",
        "print(result, type(result))\n",
        "\n",
        "flag = random.choice([True, False])\n",
        "print(flag)"
      ],
      "metadata": {
        "colab": {
          "base_uri": "https://localhost:8080/"
        },
        "id": "QOPlwMPIW8Ms",
        "outputId": "966df6f4-96c5-4d47-819f-f411ac913171"
      },
      "execution_count": null,
      "outputs": [
        {
          "output_type": "stream",
          "name": "stdout",
          "text": [
            "['a', 'b', 'c', 'd']\n",
            "b <class 'str'>\n",
            "True\n"
          ]
        }
      ]
    },
    {
      "cell_type": "code",
      "source": [
        "# [5] sample (샘플링하다)\n",
        "result = random.sample(data, 3)\n",
        "print(result, type(result)) # <-- type 같이 출력하는 이유는 choice 함수랑 sample 함수랑 헷갈림 방지 @ 초기 stage"
      ],
      "metadata": {
        "colab": {
          "base_uri": "https://localhost:8080/"
        },
        "id": "nT3elAf6V6Nv",
        "outputId": "46325b84-3bf7-40cc-8cb8-0fe01b5df279"
      },
      "execution_count": null,
      "outputs": [
        {
          "output_type": "stream",
          "name": "stdout",
          "text": [
            "['b', 'c', 'a'] <class 'list'>\n"
          ]
        }
      ]
    },
    {
      "cell_type": "code",
      "source": [
        "# [6] shuffle\n",
        "print(data)\n",
        "random.shuffle(data)\n",
        "print(data)"
      ],
      "metadata": {
        "colab": {
          "base_uri": "https://localhost:8080/"
        },
        "id": "ccP4VN23Yl0k",
        "outputId": "8a5e69da-ff40-4a28-9280-2ad50fff344e"
      },
      "execution_count": null,
      "outputs": [
        {
          "output_type": "stream",
          "name": "stdout",
          "text": [
            "['a', 'b', 'c', 'd']\n",
            "['b', 'd', 'a', 'c']\n"
          ]
        }
      ]
    },
    {
      "cell_type": "code",
      "source": [
        "import numpy as np\n",
        "import matplotlib.pyplot as plt\n",
        "from math import factorial\n"
      ],
      "metadata": {
        "id": "W0zisyircfKk"
      },
      "execution_count": null,
      "outputs": []
    },
    {
      "cell_type": "code",
      "source": [
        "# binomial pdf\n",
        "def pdf_binomial(k,n,p):\n",
        "  ''' docstring\n",
        "  args :\n",
        "    k(int) : number of success\n",
        "    n(int) : total number of independent trials\n",
        "    p(float) : probability\n",
        "  return : \n",
        "    pd(float) : probability density of given k, n, p\n",
        "  '''\n",
        "  nck = factorial(n) / (factorial(k) * factorial(n-k))\n",
        "  pd = nck * p**k * (1-p)**(n-k) # ** power\n",
        "  return pd"
      ],
      "metadata": {
        "id": "FNAJQ7Eycd1-"
      },
      "execution_count": null,
      "outputs": []
    },
    {
      "cell_type": "code",
      "source": [
        "x = np.arange(21)\n",
        "#pythonic\n",
        "pd1 = np.array([pdf_binomial(k,20,0.7) for k in range(21)])\n",
        "print(pd1)\n",
        "'''\n",
        "pd_ls = [ ]\n",
        "for k in range(21):\n",
        "  pd = pdf+_binomial(k, 0.7)\n",
        "  pd_Is.append(pd_Is)\n",
        "'''\n",
        "plt.ylim(0, 0.3)\n",
        "plt.text(12, 0.2, 'n,p = 20.07')\n",
        "plt.bar(x, pd1, color = 'lightcoral')\n",
        "plt.show()"
      ],
      "metadata": {
        "colab": {
          "base_uri": "https://localhost:8080/",
          "height": 379
        },
        "id": "vX1U9rb1c1ag",
        "outputId": "3373e461-882b-45ad-a38b-e41cdd13ef31"
      },
      "execution_count": null,
      "outputs": [
        {
          "output_type": "stream",
          "name": "stdout",
          "text": [
            "[3.48678440e-11 1.62716605e-09 3.60688475e-08 5.04963865e-07\n",
            " 5.00755833e-06 3.73897689e-05 2.18106985e-04 1.01783260e-03\n",
            " 3.85928193e-03 1.20066549e-02 3.08170809e-02 6.53695655e-02\n",
            " 1.14396740e-01 1.64261985e-01 1.91638983e-01 1.78863051e-01\n",
            " 1.30420974e-01 7.16036722e-02 2.78458725e-02 6.83933711e-03\n",
            " 7.97922663e-04]\n"
          ]
        },
        {
          "output_type": "display_data",
          "data": {
            "text/plain": [
              "<Figure size 432x288 with 1 Axes>"
            ],
            "image/png": "[encoded data removed]"
          },
          "metadata": {
            "needs_background": "light"
          }
        }
      ]
    },
    {
      "cell_type": "code",
      "source": [
        "N = 100\n",
        "probs = [0.3, 0.5,0.7]\n",
        "colors = ['lightcoral', 'royalblue', 'mediumaquamarine']\n",
        "x= np.arange(N+1)\n",
        "for i, p in enumerate(probs): # enumerate : print order of iteration\n",
        "  pd = np.array([pdf_binomial(k,N,p) for k in range(N+1)])\n",
        "  plt.subplot (3, 1, i+1)\n",
        "  plt.ylim(0, 0.3)\n",
        "  plt.text(12, 0.2, 'n, p = {}, {}'.format(N, p)) # the variables inside format() substitute {}\n",
        "  plt.bar(x, pd, color = colors[i])\n",
        "\n",
        "plt.show()"
      ],
      "metadata": {
        "colab": {
          "base_uri": "https://localhost:8080/",
          "height": 269
        },
        "id": "tHEffobJhyM0",
        "outputId": "e7d49d4d-cb5c-4ebd-ba69-27be56ec2fc6"
      },
      "execution_count": null,
      "outputs": [
        {
          "output_type": "display_data",
          "data": {
            "text/plain": [
              "<Figure size 432x288 with 3 Axes>"
            ],
            "image/png": "[encoded data removed]"
          },
          "metadata": {
            "needs_background": "light"
          }
        }
      ]
    }
  ]
}