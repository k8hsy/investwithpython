{
 "cells": [
  {
   "attachments": {},
   "cell_type": "markdown",
   "metadata": {},
   "source": [
    "3. Return Calculation \n",
    "   - Simple return\n",
    "        - Easy to use\n",
    "        - 직관적이고 일반적임\n",
    "        - 1 단위의 수익률 계산에는 편리함, 하지만 평균을 비롯한 통계작업에 적합하지 않음\n",
    "        - 수식 : (End Price/Beginning Price) -1\n",
    "                 파이썬의 데이타프레임 시계열 데이터에서는 .pct_change() 수식을 쓸 수 있음\n",
    "\n",
    "   - Log return\n",
    "        - 계산기의 도움을 받아서 계산해야 함\n",
    "        - 직관적이지 않음\n",
    "        - 수익률 간의 덧셈/뺄셈이 가능해서 통계작업이 가능함. 리스크(변동성)을 구할 수 있음\n",
    "        - 하락이 -100%를 넘길 수 있음. \n",
    "        - 수식 : log(last price / first price) or\n",
    "                 log(last price)-log(first price)\n",
    "\n",
    "\n",
    "   - CAGR(Compound Annual Growth Rate)\n",
    "        - CAGR = (Last Price / First Price)^(1/No of Years) - 1\n",
    "        "
   ]
  },
  {
   "cell_type": "code",
   "execution_count": 1,
   "metadata": {},
   "outputs": [],
   "source": [
    "#Packages used (사용된 패키지)\n",
    "import yfinance as yf\n",
    "import pandas as pd\n",
    "import numpy as np\n",
    "import datetime as dt\n",
    "import matplotlib.pyplot as plt\n",
    "import seaborn as sns"
   ]
  },
  {
   "cell_type": "code",
   "execution_count": 2,
   "metadata": {},
   "outputs": [
    {
     "data": {
      "text/html": [
       "<div>\n",
       "<style scoped>\n",
       "    .dataframe tbody tr th:only-of-type {\n",
       "        vertical-align: middle;\n",
       "    }\n",
       "\n",
       "    .dataframe tbody tr th {\n",
       "        vertical-align: top;\n",
       "    }\n",
       "\n",
       "    .dataframe thead th {\n",
       "        text-align: right;\n",
       "    }\n",
       "</style>\n",
       "<table border=\"1\" class=\"dataframe\">\n",
       "  <thead>\n",
       "    <tr style=\"text-align: right;\">\n",
       "      <th></th>\n",
       "      <th>0</th>\n",
       "    </tr>\n",
       "  </thead>\n",
       "  <tbody>\n",
       "    <tr>\n",
       "      <th>0</th>\n",
       "      <td>2</td>\n",
       "    </tr>\n",
       "    <tr>\n",
       "      <th>1</th>\n",
       "      <td>4</td>\n",
       "    </tr>\n",
       "    <tr>\n",
       "      <th>2</th>\n",
       "      <td>6</td>\n",
       "    </tr>\n",
       "    <tr>\n",
       "      <th>3</th>\n",
       "      <td>8</td>\n",
       "    </tr>\n",
       "    <tr>\n",
       "      <th>4</th>\n",
       "      <td>10</td>\n",
       "    </tr>\n",
       "    <tr>\n",
       "      <th>...</th>\n",
       "      <td>...</td>\n",
       "    </tr>\n",
       "    <tr>\n",
       "      <th>245</th>\n",
       "      <td>492</td>\n",
       "    </tr>\n",
       "    <tr>\n",
       "      <th>246</th>\n",
       "      <td>494</td>\n",
       "    </tr>\n",
       "    <tr>\n",
       "      <th>247</th>\n",
       "      <td>496</td>\n",
       "    </tr>\n",
       "    <tr>\n",
       "      <th>248</th>\n",
       "      <td>498</td>\n",
       "    </tr>\n",
       "    <tr>\n",
       "      <th>249</th>\n",
       "      <td>500</td>\n",
       "    </tr>\n",
       "  </tbody>\n",
       "</table>\n",
       "<p>250 rows × 1 columns</p>\n",
       "</div>"
      ],
      "text/plain": [
       "       0\n",
       "0      2\n",
       "1      4\n",
       "2      6\n",
       "3      8\n",
       "4     10\n",
       "..   ...\n",
       "245  492\n",
       "246  494\n",
       "247  496\n",
       "248  498\n",
       "249  500\n",
       "\n",
       "[250 rows x 1 columns]"
      ]
     },
     "execution_count": 2,
     "metadata": {},
     "output_type": "execute_result"
    }
   ],
   "source": [
    "# 2에서 500 까지 2 단위로 증가하는 리스트를 만들어서 100을 기준으로 상하 수익률을 계산하고자 함\n",
    "\n",
    "p=[]\n",
    "for i in range(2,502,2):\n",
    "    p.append(i)\n",
    "df=pd.DataFrame(p)    \n",
    "\n",
    "df"
   ]
  },
  {
   "cell_type": "code",
   "execution_count": 3,
   "metadata": {},
   "outputs": [
    {
     "data": {
      "text/html": [
       "<div>\n",
       "<style scoped>\n",
       "    .dataframe tbody tr th:only-of-type {\n",
       "        vertical-align: middle;\n",
       "    }\n",
       "\n",
       "    .dataframe tbody tr th {\n",
       "        vertical-align: top;\n",
       "    }\n",
       "\n",
       "    .dataframe thead th {\n",
       "        text-align: right;\n",
       "    }\n",
       "</style>\n",
       "<table border=\"1\" class=\"dataframe\">\n",
       "  <thead>\n",
       "    <tr style=\"text-align: right;\">\n",
       "      <th></th>\n",
       "      <th>Price</th>\n",
       "      <th>log return</th>\n",
       "      <th>simple return</th>\n",
       "    </tr>\n",
       "  </thead>\n",
       "  <tbody>\n",
       "    <tr>\n",
       "      <th>0</th>\n",
       "      <td>2</td>\n",
       "      <td>-3.912023</td>\n",
       "      <td>-0.98</td>\n",
       "    </tr>\n",
       "    <tr>\n",
       "      <th>1</th>\n",
       "      <td>4</td>\n",
       "      <td>-3.218876</td>\n",
       "      <td>-0.96</td>\n",
       "    </tr>\n",
       "    <tr>\n",
       "      <th>2</th>\n",
       "      <td>6</td>\n",
       "      <td>-2.813411</td>\n",
       "      <td>-0.94</td>\n",
       "    </tr>\n",
       "    <tr>\n",
       "      <th>3</th>\n",
       "      <td>8</td>\n",
       "      <td>-2.525729</td>\n",
       "      <td>-0.92</td>\n",
       "    </tr>\n",
       "    <tr>\n",
       "      <th>4</th>\n",
       "      <td>10</td>\n",
       "      <td>-2.302585</td>\n",
       "      <td>-0.90</td>\n",
       "    </tr>\n",
       "    <tr>\n",
       "      <th>...</th>\n",
       "      <td>...</td>\n",
       "      <td>...</td>\n",
       "      <td>...</td>\n",
       "    </tr>\n",
       "    <tr>\n",
       "      <th>245</th>\n",
       "      <td>492</td>\n",
       "      <td>1.593309</td>\n",
       "      <td>3.92</td>\n",
       "    </tr>\n",
       "    <tr>\n",
       "      <th>246</th>\n",
       "      <td>494</td>\n",
       "      <td>1.597365</td>\n",
       "      <td>3.94</td>\n",
       "    </tr>\n",
       "    <tr>\n",
       "      <th>247</th>\n",
       "      <td>496</td>\n",
       "      <td>1.601406</td>\n",
       "      <td>3.96</td>\n",
       "    </tr>\n",
       "    <tr>\n",
       "      <th>248</th>\n",
       "      <td>498</td>\n",
       "      <td>1.605430</td>\n",
       "      <td>3.98</td>\n",
       "    </tr>\n",
       "    <tr>\n",
       "      <th>249</th>\n",
       "      <td>500</td>\n",
       "      <td>1.609438</td>\n",
       "      <td>4.00</td>\n",
       "    </tr>\n",
       "  </tbody>\n",
       "</table>\n",
       "<p>250 rows × 3 columns</p>\n",
       "</div>"
      ],
      "text/plain": [
       "     Price  log return  simple return\n",
       "0        2   -3.912023          -0.98\n",
       "1        4   -3.218876          -0.96\n",
       "2        6   -2.813411          -0.94\n",
       "3        8   -2.525729          -0.92\n",
       "4       10   -2.302585          -0.90\n",
       "..     ...         ...            ...\n",
       "245    492    1.593309           3.92\n",
       "246    494    1.597365           3.94\n",
       "247    496    1.601406           3.96\n",
       "248    498    1.605430           3.98\n",
       "249    500    1.609438           4.00\n",
       "\n",
       "[250 rows x 3 columns]"
      ]
     },
     "execution_count": 3,
     "metadata": {},
     "output_type": "execute_result"
    }
   ],
   "source": [
    "df=df.rename(columns={0:'Price'})\n",
    "df['log return']=np.log(df['Price']/100)\n",
    "df['simple return']=df['Price']/100 -1\n",
    "df"
   ]
  },
  {
   "cell_type": "code",
   "execution_count": 4,
   "metadata": {},
   "outputs": [
    {
     "name": "stderr",
     "output_type": "stream",
     "text": [
      "C:\\Users\\euisu\\AppData\\Local\\Temp\\ipykernel_35328\\2238455556.py:19: UserWarning: FixedFormatter should only be used together with FixedLocator\n",
      "  plt.gca().set_yticklabels(['{:.0%}'.format(x) for x in current_values])\n"
     ]
    },
    {
     "data": {
      "image/png": "[encoded data removed]",
      "text/plain": [
       "<Figure size 1152x576 with 1 Axes>"
      ]
     },
     "metadata": {
      "needs_background": "light"
     },
     "output_type": "display_data"
    }
   ],
   "source": [
    "# Line Chart \n",
    "\n",
    "x=df['Price']\n",
    "y1=df['log return']\n",
    "y2=df['simple return']\n",
    "\n",
    "plt.figure(figsize=(16,8))\n",
    "plt.xlabel(\"Price\")\n",
    "plt.ylabel('Return(%)')\n",
    "plt.title('Log return vs Simple return')\n",
    "\n",
    "plt.plot(x,y1, color='red', marker='o', label='Log return')\n",
    "plt.plot(x,y2, color=\"blue\",marker='*', label = 'Simple return')\n",
    "plt.legend()\n",
    "plt.axis([0,500,-4,4])      ## x축은 0~500 까지, y축은 -400%~ 500% 까지 보여줍니다\n",
    "\n",
    "# Y-axis % 표시\n",
    "current_values = plt.gca().get_yticks()\n",
    "plt.gca().set_yticklabels(['{:.0%}'.format(x) for x in current_values])\n",
    "\n",
    "plt.axhline(y=0, color='y', linewidth=1)                    # 가로선\n",
    "plt.axvline(x=100, color='r', linestyle=':', linewidth=1)   # 세로선\n",
    "\n",
    "plt.show()"
   ]
  },
  {
   "cell_type": "code",
   "execution_count": 5,
   "metadata": {},
   "outputs": [
    {
     "name": "stdout",
     "output_type": "stream",
     "text": [
      "0.11286660276391958\n"
     ]
    }
   ],
   "source": [
    "#CAGR calculation function. \n",
    "#CAGR=(last price / Initial pirce)^(1/# of years) - 1 \n",
    "\n",
    "def getCAGR(initial_price, last_price, years):\n",
    "    CAGR=((last_price/initial_price)**(1/years)-1)\n",
    "    return CAGR\n",
    "\n",
    "Ini_p = 65300\n",
    "last_p = 90000\n",
    "no_years = 3\n",
    "\n",
    "cagr=getCAGR(Ini_p,last_p,no_years)\n",
    "print(cagr)"
   ]
  }
 ],
 "metadata": {
  "kernelspec": {
   "display_name": "Python 3.10.6 64-bit",
   "language": "python",
   "name": "python3"
  },
  "language_info": {
   "codemirror_mode": {
    "name": "ipython",
    "version": 3
   },
   "file_extension": ".py",
   "mimetype": "text/x-python",
   "name": "python",
   "nbconvert_exporter": "python",
   "pygments_lexer": "ipython3",
   "version": "3.9.12"
  },
  "orig_nbformat": 4,
  "vscode": {
   "interpreter": {
    "hash": "26de051ba29f2982a8de78e945f0abaf191376122a1563185a90213a26c5da77"
   }
  }
 },
 "nbformat": 4,
 "nbformat_minor": 2
}
